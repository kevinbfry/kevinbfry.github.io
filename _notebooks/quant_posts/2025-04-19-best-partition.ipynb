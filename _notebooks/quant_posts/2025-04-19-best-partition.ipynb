{
 "cells": [
  {
   "cell_type": "markdown",
   "id": "9f0178b8",
   "metadata": {},
   "source": [
    "This was an open-ended question I got in a quant virtual screen. I had no idea how to answer it in the interview, but it stuck in my mind. The question is as follows.\n",
    "\n",
    "Consider the numbers $\\sqrt 1, \\sqrt 2, \\dots, \\sqrt{50}$. Suppose we want to partition these 50 numbers into two groups, $A$ and $B$. The objective in this partition is to minimize the absolute difference of the sum of the values in each group:\n",
    "$$\\min \\left | \\sum_{x \\in A} x - \\sum_{x \\in B} x \\right |$$\n",
    "The interviewer wanted to know what procedure I would use and to estimate, up to order of magnitude, how big the difference would be for the groups produced by my procedure.\n",
    "\n",
    "I was pretty stumped. The options that came to mind for me was a greedy algorithm where you add the next element to the group that minimizes the objective for that step, or a swapping algorithm where you start with a random partition, and swap elements until you reach a stable point where no swaps reduce the objective. However, it was not obvious how to analyze how close to 0 those solutions would be.\n",
    "\n",
    "After posing the question to several colleagues, I finally got a good answer from my friend Chen Cheng, who had actually been asked the same question in his interview. This is his solution.\n",
    "\n",
    "## Looking at the differences\n",
    "\n",
    "He looked at the differences $\\sqrt{i+1} - \\sqrt{i}$. Notice that\n",
    "$$\\sqrt{i+1} - \\sqrt{i} = \\frac{i+1 - i}{\\sqrt{i+1} + \\sqrt{i}}$$"
   ]
  },
  {
   "cell_type": "code",
   "execution_count": null,
   "id": "11ca1b8b",
   "metadata": {},
   "outputs": [],
   "source": []
  }
 ],
 "metadata": {
  "language_info": {
   "name": "python"
  }
 },
 "nbformat": 4,
 "nbformat_minor": 5
}
